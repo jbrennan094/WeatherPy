{
 "cells": [
  {
   "cell_type": "code",
   "execution_count": null,
   "metadata": {},
   "outputs": [],
   "source": [
    "from gmplot import gmplot\n",
    "import pandas as pd\n",
    "import numpy as np"
   ]
  },
  {
   "cell_type": "code",
   "execution_count": null,
   "metadata": {
    "scrolled": true
   },
   "outputs": [],
   "source": [
    "# Import cities dataframe\n",
    "cities_df = pd.read_csv(\"output/cities_sample.csv\")\n",
    "cities_df.head()\n",
    "\n",
    "# Import Temperature gradient hex codes\n",
    "hex_code_df = pd.read_csv(\"data/temp_gradient_hex_codes.csv\", header=None)\n",
    "\n",
    "# Reverse order (Cold -> Hot)\n",
    "arr = np.array(hex_code_df[1])\n",
    "arr = arr[::-1]\n",
    "hex_code_df[1] = arr"
   ]
  },
  {
   "cell_type": "code",
   "execution_count": null,
   "metadata": {},
   "outputs": [],
   "source": [
    "# Number of bins\n",
    "num_bins = hex_code_df.shape[0]-1\n",
    "\n",
    "# Organize data\n",
    "temp = np.array(cities_df[\"Temp\"])\n",
    "\n",
    "# Min temp\n",
    "temp_min = np.min(temp)\n",
    "\n",
    "# Max temp\n",
    "temp_max = np.max(temp)\n",
    "\n",
    "# Bins\n",
    "bins = np.linspace(temp_min, temp_max, num=num_bins)\n",
    "\n",
    "# Assign values temps to bin\n",
    "temp_bin = np.digitize(temp, bins)\n",
    "\n",
    "# Append to cities dataframe\n",
    "cities_df[\"Bin Value\"] = temp_bin"
   ]
  },
  {
   "cell_type": "code",
   "execution_count": null,
   "metadata": {},
   "outputs": [],
   "source": [
    "# Center lat, long\n",
    "center_lat = cities_df[\"Latitude\"].mean()\n",
    "center_lng = cities_df[\"Longitude\"].mean()\n",
    "\n",
    "# Create gmap object\n",
    "gmap = gmplot.GoogleMapPlotter(center_lat=center_lat, center_lng=center_lng, zoom=3)"
   ]
  },
  {
   "cell_type": "code",
   "execution_count": null,
   "metadata": {},
   "outputs": [],
   "source": [
    "# Loop through to create scatter plot\n",
    "for index, row in cities_df.iterrows():\n",
    "    \n",
    "    lat = row[\"Latitude\"]\n",
    "    \n",
    "    lng = row[\"Longitude\"]\n",
    "    \n",
    "    lat_zip, lng_zip = zip(*[(lat,lng)])\n",
    "    \n",
    "    idx = row[\"Bin Value\"]\n",
    "    \n",
    "    color = hex_code_df.iloc[idx, -1]\n",
    "    color = \"#\" + color[1:]\n",
    "    ##color = color[1:]\n",
    "    color = color.upper()\n",
    "    \n",
    "    #gmap.scatter(lat_zip, lng_zip, color=, size=60, marker=False)\n",
    "    gmap.circle(lat, lng, 50000, color=color, ew=2)"
   ]
  },
  {
   "cell_type": "code",
   "execution_count": null,
   "metadata": {},
   "outputs": [],
   "source": [
    "gmap.draw(\"heatmap.html\")"
   ]
  }
 ],
 "metadata": {
  "kernelspec": {
   "display_name": "Python 3",
   "language": "python",
   "name": "python3"
  },
  "language_info": {
   "codemirror_mode": {
    "name": "ipython",
    "version": 3
   },
   "file_extension": ".py",
   "mimetype": "text/x-python",
   "name": "python",
   "nbconvert_exporter": "python",
   "pygments_lexer": "ipython3",
   "version": "3.5.4"
  }
 },
 "nbformat": 4,
 "nbformat_minor": 2
}
