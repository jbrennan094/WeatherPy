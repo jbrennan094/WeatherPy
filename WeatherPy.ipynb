{
 "cells": [
  {
   "cell_type": "code",
   "execution_count": null,
   "metadata": {},
   "outputs": [],
   "source": [
    "import requests\n",
    "import pandas as pd\n",
    "from random import sample\n",
    "import matplotlib.pyplot as plt\n",
    "import datetime\n",
    "import sys"
   ]
  },
  {
   "cell_type": "code",
   "execution_count": null,
   "metadata": {},
   "outputs": [],
   "source": [
    "# Read in csv file\n",
    "df = pd.read_csv(\"data/worldcities.csv\")\n",
    "df.head()"
   ]
  },
  {
   "cell_type": "code",
   "execution_count": null,
   "metadata": {},
   "outputs": [],
   "source": [
    "# Create new column (temp)\n",
    "df[\"Temp\"] = \"\"\n",
    "df[\"Humidity\"] = \"\"\n",
    "df[\"Cloudiness\"] = \"\"\n",
    "df[\"Wind Speed\"] = \"\""
   ]
  },
  {
   "cell_type": "code",
   "execution_count": null,
   "metadata": {},
   "outputs": [],
   "source": [
    "# Number of rows in dataframe\n",
    "nrows = df.shape[0]\n",
    "\n",
    "# Choose 500 random cities\n",
    "idx = sample(range(nrows), 500)\n",
    "\n",
    "# Create sample dataframe\n",
    "cities_sample = df.iloc[idx,:]"
   ]
  },
  {
   "cell_type": "code",
   "execution_count": null,
   "metadata": {},
   "outputs": [],
   "source": [
    "## Get temp for 500 random cities\n",
    "\n",
    "# Today's date (for plots)\n",
    "now = datetime.datetime.now()\n",
    "\n",
    "# Loop counter\n",
    "n = 0\n",
    "\n",
    "# Base Url for openweather api\n",
    "base_url = \"http://api.openweathermap.org/data/2.5/weather?\"\n",
    "\n",
    "# My api key\n",
    "api_key = \"&APPID=78328d7bbd5d23c60c8a243e00bbe313\"\n",
    "\n",
    "# Loop through the sample dataframe and request temperature to append the dataframe\n",
    "for index, row in cities_sample.iterrows():\n",
    "    \n",
    "    # Get Latitude value from sample df\n",
    "    lat_value = row[\"Latitude\"]\n",
    "    \n",
    "    # Get Longitude value from sample df\n",
    "    long_value = row[\"Longitude\"]\n",
    "    \n",
    "    # Construct url for the request\n",
    "    target_url = base_url + \"lat=\" + str(lat_value) + \"&lon=\" + str(long_value) + api_key\n",
    "    \n",
    "    # Make the request\n",
    "    response = requests.get(target_url).json()\n",
    "    \n",
    "    # Extract temperature value\n",
    "    tmp_value = float(response[\"main\"][\"temp\"])\n",
    "    \n",
    "    # Extract humidity value\n",
    "    humidity_value = float(response[\"main\"][\"humidity\"])\n",
    "    \n",
    "    # Extract Cloudiness value\n",
    "    cloudiness_value = float(response[\"clouds\"][\"all\"])\n",
    "    \n",
    "    # Extract Wind Speed value\n",
    "    wind_speed_value = float(response[\"wind\"][\"speed\"])\n",
    "    \n",
    "    # Print log\n",
    "    print(n)\n",
    "    print(\"City number: \", index)\n",
    "    print(\"City Name: \", row[\"City\"])\n",
    "    print(\"Request URL: \", target_url)\n",
    "    print(\"--------------------------------------------------------------\")\n",
    "    \n",
    "    # Update counter\n",
    "    n += 1\n",
    "    \n",
    "    # Append sample df\n",
    "    cities_sample.set_value(index, \"Temp\", tmp_value)\n",
    "    cities_sample.set_value(index, \"Humidity\", humidity_value)\n",
    "    cities_sample.set_value(index, \"Cloudiness\", cloudiness_value)\n",
    "    cities_sample.set_value(index, \"Wind Speed\", wind_speed_value)\n",
    "      \n",
    "# Create new csv file for cities_sample\n",
    "# (This way you won't have to make 500 requests again.)\n",
    "cities_sample.to_csv(\"output/cities_sample.csv\", sep=\",\")"
   ]
  },
  {
   "cell_type": "code",
   "execution_count": null,
   "metadata": {},
   "outputs": [],
   "source": [
    "## Check out appended dataframe\n",
    "cities_sample.head()"
   ]
  },
  {
   "cell_type": "code",
   "execution_count": null,
   "metadata": {},
   "outputs": [],
   "source": [
    "# Temperature vs Latitude\n",
    "plt.scatter(cities_sample[\"Temp\"], cities_sample[\"Latitude\"])\n",
    "\n",
    "plt.title(\"Temperature across Latitude, \" + str(now.year) + \"-\" + str(now.month) + \"-\" + str(now.day))\n",
    "plt.xlabel(\"Temperature\")\n",
    "plt.ylabel(\"Latitude\")\n",
    "plt.grid()"
   ]
  },
  {
   "cell_type": "code",
   "execution_count": null,
   "metadata": {},
   "outputs": [],
   "source": [
    "# Humidity vs Latitude\n",
    "plt.scatter(cities_sample[\"Humidity\"], cities_sample[\"Latitude\"])\n",
    "\n",
    "plt.title(\"Humidity across Latitude, \" + str(now.year) + \"-\" + str(now.month) + \"-\" + str(now.day))\n",
    "plt.xlabel(\"Humidity\")\n",
    "plt.ylabel(\"Latitude\")\n",
    "plt.grid()"
   ]
  },
  {
   "cell_type": "code",
   "execution_count": null,
   "metadata": {},
   "outputs": [],
   "source": [
    "# Cloudiness vs Latitude\n",
    "plt.scatter(cities_sample[\"Cloudiness\"], cities_sample[\"Latitude\"])\n",
    "\n",
    "plt.title(\"Cloudiness across Latitude, \" + str(now.year) + \"-\" + str(now.month) + \"-\" + str(now.day))\n",
    "plt.xlabel(\"Cloudiness\")\n",
    "plt.ylabel(\"Latitude\")\n",
    "plt.grid()"
   ]
  },
  {
   "cell_type": "code",
   "execution_count": null,
   "metadata": {},
   "outputs": [],
   "source": [
    "# Wind Speed vs Latitude\n",
    "plt.scatter(cities_sample[\"Wind Speed\"], cities_sample[\"Latitude\"])\n",
    "\n",
    "plt.title(\"Wind Speed across Latitude, \" + str(now.year) + \"-\" + str(now.month) + \"-\" + str(now.day))\n",
    "plt.xlabel(\"Wind Speed\")\n",
    "plt.ylabel(\"Latitude\")\n",
    "plt.grid()"
   ]
  }
 ],
 "metadata": {
  "kernelspec": {
   "display_name": "Python 3",
   "language": "python",
   "name": "python3"
  },
  "language_info": {
   "codemirror_mode": {
    "name": "ipython",
    "version": 3
   },
   "file_extension": ".py",
   "mimetype": "text/x-python",
   "name": "python",
   "nbconvert_exporter": "python",
   "pygments_lexer": "ipython3",
   "version": "3.5.4"
  }
 },
 "nbformat": 4,
 "nbformat_minor": 2
}
